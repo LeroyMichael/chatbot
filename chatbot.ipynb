{
  "nbformat": 4,
  "nbformat_minor": 0,
  "metadata": {
    "colab": {
      "name": "chatbot.ipynb",
      "provenance": [],
      "authorship_tag": "ABX9TyOo0jK1OyvcukhlfKv2ZaIV",
      "include_colab_link": true
    },
    "kernelspec": {
      "name": "python3",
      "display_name": "Python 3"
    }
  },
  "cells": [
    {
      "cell_type": "markdown",
      "metadata": {
        "id": "view-in-github",
        "colab_type": "text"
      },
      "source": [
        "<a href=\"https://colab.research.google.com/github/LeroyMichael/chatbot/blob/master/chatbot.ipynb\" target=\"_parent\"><img src=\"https://colab.research.google.com/assets/colab-badge.svg\" alt=\"Open In Colab\"/></a>"
      ]
    },
    {
      "cell_type": "code",
      "metadata": {
        "id": "JC-S3awBOdnB"
      },
      "source": [
        "pip install nltk"
      ],
      "execution_count": null,
      "outputs": []
    },
    {
      "cell_type": "code",
      "metadata": {
        "id": "3QEc-NxoNZs1",
        "outputId": "0369767b-8f09-4016-e8fe-6bdb865c8da1",
        "colab": {
          "base_uri": "https://localhost:8080/",
          "height": 925
        }
      },
      "source": [
        "pip install newspaper3k"
      ],
      "execution_count": 8,
      "outputs": [
        {
          "output_type": "stream",
          "text": [
            "Collecting newspaper3k\n",
            "\u001b[?25l  Downloading https://files.pythonhosted.org/packages/d7/b9/51afecb35bb61b188a4b44868001de348a0e8134b4dfa00ffc191567c4b9/newspaper3k-0.2.8-py3-none-any.whl (211kB)\n",
            "\u001b[K     |████████████████████████████████| 215kB 2.6MB/s \n",
            "\u001b[?25hRequirement already satisfied: PyYAML>=3.11 in /usr/local/lib/python3.6/dist-packages (from newspaper3k) (3.13)\n",
            "Collecting feedparser>=5.2.1\n",
            "\u001b[?25l  Downloading https://files.pythonhosted.org/packages/2c/84/df6de99cba01afc82344c9cb3a79df100a00ac33396120f8aa66c72f0d84/feedparser-6.0.1-py2.py3-none-any.whl (80kB)\n",
            "\u001b[K     |████████████████████████████████| 81kB 4.0MB/s \n",
            "\u001b[?25hRequirement already satisfied: nltk>=3.2.1 in /usr/local/lib/python3.6/dist-packages (from newspaper3k) (3.2.5)\n",
            "Collecting cssselect>=0.9.2\n",
            "  Downloading https://files.pythonhosted.org/packages/3b/d4/3b5c17f00cce85b9a1e6f91096e1cc8e8ede2e1be8e96b87ce1ed09e92c5/cssselect-1.1.0-py2.py3-none-any.whl\n",
            "Collecting jieba3k>=0.35.1\n",
            "\u001b[?25l  Downloading https://files.pythonhosted.org/packages/a9/cb/2c8332bcdc14d33b0bedd18ae0a4981a069c3513e445120da3c3f23a8aaa/jieba3k-0.35.1.zip (7.4MB)\n",
            "\u001b[K     |████████████████████████████████| 7.4MB 8.3MB/s \n",
            "\u001b[?25hRequirement already satisfied: beautifulsoup4>=4.4.1 in /usr/local/lib/python3.6/dist-packages (from newspaper3k) (4.6.3)\n",
            "Collecting tldextract>=2.0.1\n",
            "\u001b[?25l  Downloading https://files.pythonhosted.org/packages/12/cf/d0ff82625e53bd245d6173ce6333d190abbfcd94e4c30e54b4e16b474216/tldextract-2.2.3-py2.py3-none-any.whl (48kB)\n",
            "\u001b[K     |████████████████████████████████| 51kB 4.9MB/s \n",
            "\u001b[?25hCollecting feedfinder2>=0.0.4\n",
            "  Downloading https://files.pythonhosted.org/packages/35/82/1251fefec3bb4b03fd966c7e7f7a41c9fc2bb00d823a34c13f847fd61406/feedfinder2-0.0.4.tar.gz\n",
            "Collecting tinysegmenter==0.3\n",
            "  Downloading https://files.pythonhosted.org/packages/17/82/86982e4b6d16e4febc79c2a1d68ee3b707e8a020c5d2bc4af8052d0f136a/tinysegmenter-0.3.tar.gz\n",
            "Requirement already satisfied: requests>=2.10.0 in /usr/local/lib/python3.6/dist-packages (from newspaper3k) (2.23.0)\n",
            "Requirement already satisfied: python-dateutil>=2.5.3 in /usr/local/lib/python3.6/dist-packages (from newspaper3k) (2.8.1)\n",
            "Requirement already satisfied: Pillow>=3.3.0 in /usr/local/lib/python3.6/dist-packages (from newspaper3k) (7.0.0)\n",
            "Requirement already satisfied: lxml>=3.6.0 in /usr/local/lib/python3.6/dist-packages (from newspaper3k) (4.2.6)\n",
            "Collecting sgmllib3k\n",
            "  Downloading https://files.pythonhosted.org/packages/9e/bd/3704a8c3e0942d711c1299ebf7b9091930adae6675d7c8f476a7ce48653c/sgmllib3k-1.0.0.tar.gz\n",
            "Requirement already satisfied: six in /usr/local/lib/python3.6/dist-packages (from nltk>=3.2.1->newspaper3k) (1.15.0)\n",
            "Collecting requests-file>=1.4\n",
            "  Downloading https://files.pythonhosted.org/packages/77/86/cdb5e8eaed90796aa83a6d9f75cfbd37af553c47a291cd47bc410ef9bdb2/requests_file-1.5.1-py2.py3-none-any.whl\n",
            "Requirement already satisfied: idna in /usr/local/lib/python3.6/dist-packages (from tldextract>=2.0.1->newspaper3k) (2.10)\n",
            "Requirement already satisfied: chardet<4,>=3.0.2 in /usr/local/lib/python3.6/dist-packages (from requests>=2.10.0->newspaper3k) (3.0.4)\n",
            "Requirement already satisfied: urllib3!=1.25.0,!=1.25.1,<1.26,>=1.21.1 in /usr/local/lib/python3.6/dist-packages (from requests>=2.10.0->newspaper3k) (1.24.3)\n",
            "Requirement already satisfied: certifi>=2017.4.17 in /usr/local/lib/python3.6/dist-packages (from requests>=2.10.0->newspaper3k) (2020.6.20)\n",
            "Building wheels for collected packages: jieba3k, feedfinder2, tinysegmenter, sgmllib3k\n",
            "  Building wheel for jieba3k (setup.py) ... \u001b[?25l\u001b[?25hdone\n",
            "  Created wheel for jieba3k: filename=jieba3k-0.35.1-cp36-none-any.whl size=7398406 sha256=7c2ebbe8175cb04a17c54d110411a6f80f86273ad1f58852cc9d5c2c3c2e5257\n",
            "  Stored in directory: /root/.cache/pip/wheels/83/15/9c/a3f1f67e7f7181170ad37d32e503c35da20627c013f438ed34\n",
            "  Building wheel for feedfinder2 (setup.py) ... \u001b[?25l\u001b[?25hdone\n",
            "  Created wheel for feedfinder2: filename=feedfinder2-0.0.4-cp36-none-any.whl size=3355 sha256=020a71727f9d6fd4dd7526b7f913e4f445d0c08011d97b2ae9eec6956e512be0\n",
            "  Stored in directory: /root/.cache/pip/wheels/de/03/ca/778e3a7a627e3d98836cc890e7cb40c7575424cfd3340f40ed\n",
            "  Building wheel for tinysegmenter (setup.py) ... \u001b[?25l\u001b[?25hdone\n",
            "  Created wheel for tinysegmenter: filename=tinysegmenter-0.3-cp36-none-any.whl size=13538 sha256=0bbf021307148e5d71d5e313a7e665a945b9d69ae19e056e0aa65c86529cd43a\n",
            "  Stored in directory: /root/.cache/pip/wheels/81/2b/43/a02ede72324dd40cdd7ca53aad718c7710628e91b8b0dc0f02\n",
            "  Building wheel for sgmllib3k (setup.py) ... \u001b[?25l\u001b[?25hdone\n",
            "  Created wheel for sgmllib3k: filename=sgmllib3k-1.0.0-cp36-none-any.whl size=6067 sha256=8e4bed4b5e300dc664f4910e865aab9011e3cf22c861efa5807fd1c04153f612\n",
            "  Stored in directory: /root/.cache/pip/wheels/f1/80/5a/444ba08a550cdd241bd9baf8bae44be750efe370adb944506a\n",
            "Successfully built jieba3k feedfinder2 tinysegmenter sgmllib3k\n",
            "Installing collected packages: sgmllib3k, feedparser, cssselect, jieba3k, requests-file, tldextract, feedfinder2, tinysegmenter, newspaper3k\n",
            "Successfully installed cssselect-1.1.0 feedfinder2-0.0.4 feedparser-6.0.1 jieba3k-0.35.1 newspaper3k-0.2.8 requests-file-1.5.1 sgmllib3k-1.0.0 tinysegmenter-0.3 tldextract-2.2.3\n"
          ],
          "name": "stdout"
        }
      ]
    },
    {
      "cell_type": "code",
      "metadata": {
        "id": "4JVU_UKMMo24",
        "outputId": "7ff211a1-d197-47e4-b9e2-a4c1fd0b79e3",
        "colab": {
          "base_uri": "https://localhost:8080/",
          "height": 52
        }
      },
      "source": [
        "#Import Libraries\n",
        "\n",
        "import io\n",
        "import warnings\n",
        "from newspaper import Article\n",
        "import random\n",
        "import string\n",
        "from sklearn.feature_extraction.text import TfidfVectorizer\n",
        "from sklearn.metrics.pairwise import cosine_similarity\n",
        "import nltk\n",
        "nltk.download('punkt')\n",
        "import numpy as np\n",
        "import warnings\n",
        "warnings.filterwarnings('ignore')"
      ],
      "execution_count": 12,
      "outputs": [
        {
          "output_type": "stream",
          "text": [
            "[nltk_data] Downloading package punkt to /root/nltk_data...\n",
            "[nltk_data]   Unzipping tokenizers/punkt.zip.\n"
          ],
          "name": "stdout"
        }
      ]
    },
    {
      "cell_type": "code",
      "metadata": {
        "id": "b4YJfLHWOiHa",
        "outputId": "de5978af-06a7-486f-da8d-ba9e23d69496",
        "colab": {
          "base_uri": "https://localhost:8080/",
          "height": 658
        }
      },
      "source": [
        "#Get the article URL\n",
        "article = Article('https://en.wikipedia.org/wiki/Gym')\n",
        "article.download()\n",
        "article.parse()\n",
        "article.nlp()\n",
        "corpus = article.text\n",
        "\n",
        "#Print the corpus\n",
        "print(corpus)"
      ],
      "execution_count": 13,
      "outputs": [
        {
          "output_type": "stream",
          "text": [
            "Building designed and equipped for athletics and fitness\n",
            "\n",
            "A gymnasium, also known as a gym, is a covered location for athletics. The word is derived from the ancient Greek gymnasium.[1] They are commonly found in athletic and fitness centres, and as activity and learning spaces in educational institutions. \"Gym\" is also slang for \"fitness centre\", which is often an area for indoor recreation. A gym may be open air as well. A gym is a place with numer of equipments and machines used by the people to do exercises.\n",
            "\n",
            "Overview [ edit ]\n",
            "\n",
            "Inside a gymnasium in Amsterdam\n",
            "\n",
            "Gymnasia apparatus such as barbells, jumping board, running path, tennis-balls, cricket field, and fencing area are used as exercises. In safe weather, outdoor locations are the most conducive to health.[2] Gyms were popular in ancient Greece. Their curricula included self-defense, gymnastica medica, or physical therapy to help the sick and injured, and for physical fitness and sports, from boxing to dancing to skipping rope.[3]\n",
            "\n",
            "Gymnasia also had teachers of wisdom and philosophy. Community gymnastic events were done as part of the celebrations during various village festivals. In ancient Greece there was a phrase of contempt, \"He can neither swim nor write.\" After a while, however, Olympic athletes began training in buildings specifically designed for them. Community sports never became as popular among ancient Romans as it had among the ancient Greeks. Gyms were used more as a preparation for military service or spectator sports. During the Roman Empire, the gymnastic art was forgotten. In the Dark Ages there were sword fighting tournaments and of chivalry; and after gunpowder was invented sword fighting began to be replaced by the sport of fencing, as well as schools of dagger fighting and wrestling and boxing.[4]\n",
            "\n",
            "In the 18th century, Salzmann, German clergyman, opened a gym in Thuringia teaching bodily exercises, including running and swimming. Clias and Volker established gyms in London, and in 1825, Doctor Beck, a German immigrant, established the first gymnasium in the United States. It was found that gym pupils lose interest in doing the same exercises, partly because of age. Variety in exercises included skating, dancing, and swimming. Some gym activities can be done by 6 to 8-year-olds while age 16 has been considered mature enough for boxing and horseback riding.[5]\n",
            "\n",
            "In Ancient Greece, the gymnasion (γυμνάσιον) was a locality for both physical and intellectual education of young men. The latter meaning of intellectual education persisted in Greek, German and other languages to denote a certain type of school providing secondary education, the gymnasium, whereas in English the meaning of physical education pertained in the word 'gym'.[6] The Greek word gymnasium, which means \"school for naked exercise,\" was used to designate a locality for the education of young men, including physical education (gymnastics, for example, exercise) which was customarily performed naked, as well as bathing, and studies. For the Greeks, physical education was considered as important as cognitive learning. Most Greek gymnasia had libraries that for use after relaxing in the baths.[citation needed]\n",
            "\n",
            "History [ edit ]\n",
            "\n",
            "Children's outdoor gymnasium, circa 19th Century. The equipment, which was standard for the time, includes ladders, gymnastic horses, and parallel bars.\n",
            "\n",
            "The first recorded gymnasiums date back to over 3000 years ago in ancient Persia, where they were known as zurkhaneh, areas that encouraged physical fitness. The larger Roman Baths often had attached fitness facilities, the baths themselves sometimes being decorated with mosaics of local champions of sport. Gyms in Germany were an outgrowth of the Turnplatz,[7] an outdoor space for gymnastics founded by German educator Friedrich Jahn in 1811[8] and later promoted by the Turners, a nineteenth-century political and gymnastic movement. The first American to open a public gym in the United States using Jahn's model was John Neal of Portland, Maine in 1827.[9] The first indoor gymnasium in Germany was probably the one built in Hesse in 1852 by Adolph Spiess.[10]\n",
            "\n",
            "Through worldwide colonization, Great Britain expanded its national interest in sports and games to many countries. In the 1800s, programs were added to schools and college curricula that emphasized health, strength, and bodily measure. Sports drawn from European and British cultures thrived as college students and upper-class clubs financed competition. As a result, towns began building playgrounds that furthered interest in sports and physical activity.[11] In the United States, the Turner movement thrived in the nineteenth and early twentieth centuries. The first Turners group was formed in London in 1848. The Turners built gymnasia in several cities like Cincinnati and St. Louis which had large German American populations. These gyms were utilized by adults and youth. For example, a young Lou Gehrig would frequent the Turner gym in New York City with his father.\n",
            "\n",
            "Interior of a gym in The Netherlands, around 1900\n",
            "\n",
            "The Boston Young Men's Christian Union claims to be \"America's First Gym\". The YMCA first organized in Boston in 1851 and a smaller branch opened in Rangasville in 1852.[12] Ten years later there were some two hundred YMCAs across the country, most of which provided gymnasia for exercise, games, and social interaction.[citation needed]\n",
            "\n",
            "The 1920s was a decade of prosperity that witnessed the building of large numbers of public high schools with a gymnasium, an idea founded by Nicolas Isaranga.].[citation needed]\n",
            "\n",
            "Today, gymnasia are commonplace in the United States. They are in virtually all U.S. colleges and high schools, as well as almost all middle schools and elementary schools. These facilities are used for physical education, intramural sports, and school gatherings. The number of gyms in the U.S. has more than doubled since the late 1980s.[13]\n",
            "\n",
            "See also [ edit ]\n",
            "\n",
            "References [ edit ]\n"
          ],
          "name": "stdout"
        }
      ]
    },
    {
      "cell_type": "code",
      "metadata": {
        "id": "qhrC8xt3PGwj",
        "outputId": "a93474ce-5e33-4fae-a819-1e02969c70bf",
        "colab": {
          "base_uri": "https://localhost:8080/",
          "height": 54
        }
      },
      "source": [
        "#Tekonization\n",
        "text = corpus\n",
        "sent_tokens = nltk.sent_tokenize(text) #Convert the text into a list of sentences\n",
        "\n",
        "#Print the list of sentences\n",
        "print(sent_tokens)"
      ],
      "execution_count": 14,
      "outputs": [
        {
          "output_type": "stream",
          "text": [
            "['Building designed and equipped for athletics and fitness\\n\\nA gymnasium, also known as a gym, is a covered location for athletics.', 'The word is derived from the ancient Greek gymnasium.', '[1] They are commonly found in athletic and fitness centres, and as activity and learning spaces in educational institutions.', '\"Gym\" is also slang for \"fitness centre\", which is often an area for indoor recreation.', 'A gym may be open air as well.', 'A gym is a place with numer of equipments and machines used by the people to do exercises.', 'Overview [ edit ]\\n\\nInside a gymnasium in Amsterdam\\n\\nGymnasia apparatus such as barbells, jumping board, running path, tennis-balls, cricket field, and fencing area are used as exercises.', 'In safe weather, outdoor locations are the most conducive to health.', '[2] Gyms were popular in ancient Greece.', 'Their curricula included self-defense, gymnastica medica, or physical therapy to help the sick and injured, and for physical fitness and sports, from boxing to dancing to skipping rope.', '[3]\\n\\nGymnasia also had teachers of wisdom and philosophy.', 'Community gymnastic events were done as part of the celebrations during various village festivals.', 'In ancient Greece there was a phrase of contempt, \"He can neither swim nor write.\"', 'After a while, however, Olympic athletes began training in buildings specifically designed for them.', 'Community sports never became as popular among ancient Romans as it had among the ancient Greeks.', 'Gyms were used more as a preparation for military service or spectator sports.', 'During the Roman Empire, the gymnastic art was forgotten.', 'In the Dark Ages there were sword fighting tournaments and of chivalry; and after gunpowder was invented sword fighting began to be replaced by the sport of fencing, as well as schools of dagger fighting and wrestling and boxing.', '[4]\\n\\nIn the 18th century, Salzmann, German clergyman, opened a gym in Thuringia teaching bodily exercises, including running and swimming.', 'Clias and Volker established gyms in London, and in 1825, Doctor Beck, a German immigrant, established the first gymnasium in the United States.', 'It was found that gym pupils lose interest in doing the same exercises, partly because of age.', 'Variety in exercises included skating, dancing, and swimming.', 'Some gym activities can be done by 6 to 8-year-olds while age 16 has been considered mature enough for boxing and horseback riding.', '[5]\\n\\nIn Ancient Greece, the gymnasion (γυμνάσιον) was a locality for both physical and intellectual education of young men.', \"The latter meaning of intellectual education persisted in Greek, German and other languages to denote a certain type of school providing secondary education, the gymnasium, whereas in English the meaning of physical education pertained in the word 'gym'.\", '[6] The Greek word gymnasium, which means \"school for naked exercise,\" was used to designate a locality for the education of young men, including physical education (gymnastics, for example, exercise) which was customarily performed naked, as well as bathing, and studies.', 'For the Greeks, physical education was considered as important as cognitive learning.', 'Most Greek gymnasia had libraries that for use after relaxing in the baths.', \"[citation needed]\\n\\nHistory [ edit ]\\n\\nChildren's outdoor gymnasium, circa 19th Century.\", 'The equipment, which was standard for the time, includes ladders, gymnastic horses, and parallel bars.', 'The first recorded gymnasiums date back to over 3000 years ago in ancient Persia, where they were known as zurkhaneh, areas that encouraged physical fitness.', 'The larger Roman Baths often had attached fitness facilities, the baths themselves sometimes being decorated with mosaics of local champions of sport.', 'Gyms in Germany were an outgrowth of the Turnplatz,[7] an outdoor space for gymnastics founded by German educator Friedrich Jahn in 1811[8] and later promoted by the Turners, a nineteenth-century political and gymnastic movement.', \"The first American to open a public gym in the United States using Jahn's model was John Neal of Portland, Maine in 1827.\", '[9] The first indoor gymnasium in Germany was probably the one built in Hesse in 1852 by Adolph Spiess.', '[10]\\n\\nThrough worldwide colonization, Great Britain expanded its national interest in sports and games to many countries.', 'In the 1800s, programs were added to schools and college curricula that emphasized health, strength, and bodily measure.', 'Sports drawn from European and British cultures thrived as college students and upper-class clubs financed competition.', 'As a result, towns began building playgrounds that furthered interest in sports and physical activity.', '[11] In the United States, the Turner movement thrived in the nineteenth and early twentieth centuries.', 'The first Turners group was formed in London in 1848.', 'The Turners built gymnasia in several cities like Cincinnati and St. Louis which had large German American populations.', 'These gyms were utilized by adults and youth.', 'For example, a young Lou Gehrig would frequent the Turner gym in New York City with his father.', 'Interior of a gym in The Netherlands, around 1900\\n\\nThe Boston Young Men\\'s Christian Union claims to be \"America\\'s First Gym\".', 'The YMCA first organized in Boston in 1851 and a smaller branch opened in Rangasville in 1852.', '[12] Ten years later there were some two hundred YMCAs across the country, most of which provided gymnasia for exercise, games, and social interaction.', '[citation needed]\\n\\nThe 1920s was a decade of prosperity that witnessed the building of large numbers of public high schools with a gymnasium, an idea founded by Nicolas Isaranga.].', '[citation needed]\\n\\nToday, gymnasia are commonplace in the United States.', 'They are in virtually all U.S. colleges and high schools, as well as almost all middle schools and elementary schools.', 'These facilities are used for physical education, intramural sports, and school gatherings.', 'The number of gyms in the U.S. has more than doubled since the late 1980s.', '[13]\\n\\nSee also [ edit ]\\n\\nReferences [ edit ]']\n"
          ],
          "name": "stdout"
        }
      ]
    },
    {
      "cell_type": "code",
      "metadata": {
        "id": "mAeBPjw4PXnI",
        "outputId": "864b0f56-cafe-4738-b82a-ed2c102a8224",
        "colab": {
          "base_uri": "https://localhost:8080/",
          "height": 72
        }
      },
      "source": [
        "#Create a dictionary (key:value) pair to remove punctuations\n",
        "remove_punct_dict = dict((ord(punct),None) for punct in string.punctuation)\n",
        "\n",
        "#Print the punctuations\n",
        "print(string.punctuation)\n",
        "\n",
        "#print the dictionary\n",
        "print(remove_punct_dict)"
      ],
      "execution_count": 15,
      "outputs": [
        {
          "output_type": "stream",
          "text": [
            "!\"#$%&'()*+,-./:;<=>?@[\\]^_`{|}~\n",
            "{33: None, 34: None, 35: None, 36: None, 37: None, 38: None, 39: None, 40: None, 41: None, 42: None, 43: None, 44: None, 45: None, 46: None, 47: None, 58: None, 59: None, 60: None, 61: None, 62: None, 63: None, 64: None, 91: None, 92: None, 93: None, 94: None, 95: None, 96: None, 123: None, 124: None, 125: None, 126: None}\n"
          ],
          "name": "stdout"
        }
      ]
    },
    {
      "cell_type": "code",
      "metadata": {
        "id": "WaxZVObQP23b",
        "outputId": "da634aae-fec8-4e2b-fe21-1f5745283e19",
        "colab": {
          "base_uri": "https://localhost:8080/",
          "height": 54
        }
      },
      "source": [
        "#Create a function to return a list of lemmatized lower case words after removing punctuations\n",
        "def LemNormalize (text):\n",
        "  return nltk.word_tokenize(text.lower().translate(remove_punct_dict))\n",
        "\n",
        "#Print the tokenization text\n",
        "print(LemNormalize(text))"
      ],
      "execution_count": 16,
      "outputs": [
        {
          "output_type": "stream",
          "text": [
            "['building', 'designed', 'and', 'equipped', 'for', 'athletics', 'and', 'fitness', 'a', 'gymnasium', 'also', 'known', 'as', 'a', 'gym', 'is', 'a', 'covered', 'location', 'for', 'athletics', 'the', 'word', 'is', 'derived', 'from', 'the', 'ancient', 'greek', 'gymnasium1', 'they', 'are', 'commonly', 'found', 'in', 'athletic', 'and', 'fitness', 'centres', 'and', 'as', 'activity', 'and', 'learning', 'spaces', 'in', 'educational', 'institutions', 'gym', 'is', 'also', 'slang', 'for', 'fitness', 'centre', 'which', 'is', 'often', 'an', 'area', 'for', 'indoor', 'recreation', 'a', 'gym', 'may', 'be', 'open', 'air', 'as', 'well', 'a', 'gym', 'is', 'a', 'place', 'with', 'numer', 'of', 'equipments', 'and', 'machines', 'used', 'by', 'the', 'people', 'to', 'do', 'exercises', 'overview', 'edit', 'inside', 'a', 'gymnasium', 'in', 'amsterdam', 'gymnasia', 'apparatus', 'such', 'as', 'barbells', 'jumping', 'board', 'running', 'path', 'tennisballs', 'cricket', 'field', 'and', 'fencing', 'area', 'are', 'used', 'as', 'exercises', 'in', 'safe', 'weather', 'outdoor', 'locations', 'are', 'the', 'most', 'conducive', 'to', 'health2', 'gyms', 'were', 'popular', 'in', 'ancient', 'greece', 'their', 'curricula', 'included', 'selfdefense', 'gymnastica', 'medica', 'or', 'physical', 'therapy', 'to', 'help', 'the', 'sick', 'and', 'injured', 'and', 'for', 'physical', 'fitness', 'and', 'sports', 'from', 'boxing', 'to', 'dancing', 'to', 'skipping', 'rope3', 'gymnasia', 'also', 'had', 'teachers', 'of', 'wisdom', 'and', 'philosophy', 'community', 'gymnastic', 'events', 'were', 'done', 'as', 'part', 'of', 'the', 'celebrations', 'during', 'various', 'village', 'festivals', 'in', 'ancient', 'greece', 'there', 'was', 'a', 'phrase', 'of', 'contempt', 'he', 'can', 'neither', 'swim', 'nor', 'write', 'after', 'a', 'while', 'however', 'olympic', 'athletes', 'began', 'training', 'in', 'buildings', 'specifically', 'designed', 'for', 'them', 'community', 'sports', 'never', 'became', 'as', 'popular', 'among', 'ancient', 'romans', 'as', 'it', 'had', 'among', 'the', 'ancient', 'greeks', 'gyms', 'were', 'used', 'more', 'as', 'a', 'preparation', 'for', 'military', 'service', 'or', 'spectator', 'sports', 'during', 'the', 'roman', 'empire', 'the', 'gymnastic', 'art', 'was', 'forgotten', 'in', 'the', 'dark', 'ages', 'there', 'were', 'sword', 'fighting', 'tournaments', 'and', 'of', 'chivalry', 'and', 'after', 'gunpowder', 'was', 'invented', 'sword', 'fighting', 'began', 'to', 'be', 'replaced', 'by', 'the', 'sport', 'of', 'fencing', 'as', 'well', 'as', 'schools', 'of', 'dagger', 'fighting', 'and', 'wrestling', 'and', 'boxing4', 'in', 'the', '18th', 'century', 'salzmann', 'german', 'clergyman', 'opened', 'a', 'gym', 'in', 'thuringia', 'teaching', 'bodily', 'exercises', 'including', 'running', 'and', 'swimming', 'clias', 'and', 'volker', 'established', 'gyms', 'in', 'london', 'and', 'in', '1825', 'doctor', 'beck', 'a', 'german', 'immigrant', 'established', 'the', 'first', 'gymnasium', 'in', 'the', 'united', 'states', 'it', 'was', 'found', 'that', 'gym', 'pupils', 'lose', 'interest', 'in', 'doing', 'the', 'same', 'exercises', 'partly', 'because', 'of', 'age', 'variety', 'in', 'exercises', 'included', 'skating', 'dancing', 'and', 'swimming', 'some', 'gym', 'activities', 'can', 'be', 'done', 'by', '6', 'to', '8yearolds', 'while', 'age', '16', 'has', 'been', 'considered', 'mature', 'enough', 'for', 'boxing', 'and', 'horseback', 'riding5', 'in', 'ancient', 'greece', 'the', 'gymnasion', 'γυμνάσιον', 'was', 'a', 'locality', 'for', 'both', 'physical', 'and', 'intellectual', 'education', 'of', 'young', 'men', 'the', 'latter', 'meaning', 'of', 'intellectual', 'education', 'persisted', 'in', 'greek', 'german', 'and', 'other', 'languages', 'to', 'denote', 'a', 'certain', 'type', 'of', 'school', 'providing', 'secondary', 'education', 'the', 'gymnasium', 'whereas', 'in', 'english', 'the', 'meaning', 'of', 'physical', 'education', 'pertained', 'in', 'the', 'word', 'gym6', 'the', 'greek', 'word', 'gymnasium', 'which', 'means', 'school', 'for', 'naked', 'exercise', 'was', 'used', 'to', 'designate', 'a', 'locality', 'for', 'the', 'education', 'of', 'young', 'men', 'including', 'physical', 'education', 'gymnastics', 'for', 'example', 'exercise', 'which', 'was', 'customarily', 'performed', 'naked', 'as', 'well', 'as', 'bathing', 'and', 'studies', 'for', 'the', 'greeks', 'physical', 'education', 'was', 'considered', 'as', 'important', 'as', 'cognitive', 'learning', 'most', 'greek', 'gymnasia', 'had', 'libraries', 'that', 'for', 'use', 'after', 'relaxing', 'in', 'the', 'bathscitation', 'needed', 'history', 'edit', 'childrens', 'outdoor', 'gymnasium', 'circa', '19th', 'century', 'the', 'equipment', 'which', 'was', 'standard', 'for', 'the', 'time', 'includes', 'ladders', 'gymnastic', 'horses', 'and', 'parallel', 'bars', 'the', 'first', 'recorded', 'gymnasiums', 'date', 'back', 'to', 'over', '3000', 'years', 'ago', 'in', 'ancient', 'persia', 'where', 'they', 'were', 'known', 'as', 'zurkhaneh', 'areas', 'that', 'encouraged', 'physical', 'fitness', 'the', 'larger', 'roman', 'baths', 'often', 'had', 'attached', 'fitness', 'facilities', 'the', 'baths', 'themselves', 'sometimes', 'being', 'decorated', 'with', 'mosaics', 'of', 'local', 'champions', 'of', 'sport', 'gyms', 'in', 'germany', 'were', 'an', 'outgrowth', 'of', 'the', 'turnplatz7', 'an', 'outdoor', 'space', 'for', 'gymnastics', 'founded', 'by', 'german', 'educator', 'friedrich', 'jahn', 'in', '18118', 'and', 'later', 'promoted', 'by', 'the', 'turners', 'a', 'nineteenthcentury', 'political', 'and', 'gymnastic', 'movement', 'the', 'first', 'american', 'to', 'open', 'a', 'public', 'gym', 'in', 'the', 'united', 'states', 'using', 'jahns', 'model', 'was', 'john', 'neal', 'of', 'portland', 'maine', 'in', '18279', 'the', 'first', 'indoor', 'gymnasium', 'in', 'germany', 'was', 'probably', 'the', 'one', 'built', 'in', 'hesse', 'in', '1852', 'by', 'adolph', 'spiess10', 'through', 'worldwide', 'colonization', 'great', 'britain', 'expanded', 'its', 'national', 'interest', 'in', 'sports', 'and', 'games', 'to', 'many', 'countries', 'in', 'the', '1800s', 'programs', 'were', 'added', 'to', 'schools', 'and', 'college', 'curricula', 'that', 'emphasized', 'health', 'strength', 'and', 'bodily', 'measure', 'sports', 'drawn', 'from', 'european', 'and', 'british', 'cultures', 'thrived', 'as', 'college', 'students', 'and', 'upperclass', 'clubs', 'financed', 'competition', 'as', 'a', 'result', 'towns', 'began', 'building', 'playgrounds', 'that', 'furthered', 'interest', 'in', 'sports', 'and', 'physical', 'activity11', 'in', 'the', 'united', 'states', 'the', 'turner', 'movement', 'thrived', 'in', 'the', 'nineteenth', 'and', 'early', 'twentieth', 'centuries', 'the', 'first', 'turners', 'group', 'was', 'formed', 'in', 'london', 'in', '1848', 'the', 'turners', 'built', 'gymnasia', 'in', 'several', 'cities', 'like', 'cincinnati', 'and', 'st', 'louis', 'which', 'had', 'large', 'german', 'american', 'populations', 'these', 'gyms', 'were', 'utilized', 'by', 'adults', 'and', 'youth', 'for', 'example', 'a', 'young', 'lou', 'gehrig', 'would', 'frequent', 'the', 'turner', 'gym', 'in', 'new', 'york', 'city', 'with', 'his', 'father', 'interior', 'of', 'a', 'gym', 'in', 'the', 'netherlands', 'around', '1900', 'the', 'boston', 'young', 'mens', 'christian', 'union', 'claims', 'to', 'be', 'americas', 'first', 'gym', 'the', 'ymca', 'first', 'organized', 'in', 'boston', 'in', '1851', 'and', 'a', 'smaller', 'branch', 'opened', 'in', 'rangasville', 'in', '185212', 'ten', 'years', 'later', 'there', 'were', 'some', 'two', 'hundred', 'ymcas', 'across', 'the', 'country', 'most', 'of', 'which', 'provided', 'gymnasia', 'for', 'exercise', 'games', 'and', 'social', 'interactioncitation', 'needed', 'the', '1920s', 'was', 'a', 'decade', 'of', 'prosperity', 'that', 'witnessed', 'the', 'building', 'of', 'large', 'numbers', 'of', 'public', 'high', 'schools', 'with', 'a', 'gymnasium', 'an', 'idea', 'founded', 'by', 'nicolas', 'isarangacitation', 'needed', 'today', 'gymnasia', 'are', 'commonplace', 'in', 'the', 'united', 'states', 'they', 'are', 'in', 'virtually', 'all', 'us', 'colleges', 'and', 'high', 'schools', 'as', 'well', 'as', 'almost', 'all', 'middle', 'schools', 'and', 'elementary', 'schools', 'these', 'facilities', 'are', 'used', 'for', 'physical', 'education', 'intramural', 'sports', 'and', 'school', 'gatherings', 'the', 'number', 'of', 'gyms', 'in', 'the', 'us', 'has', 'more', 'than', 'doubled', 'since', 'the', 'late', '1980s13', 'see', 'also', 'edit', 'references', 'edit']\n"
          ],
          "name": "stdout"
        }
      ]
    },
    {
      "cell_type": "code",
      "metadata": {
        "id": "kgnBp2omQX8p"
      },
      "source": [
        "def response(user_response):\n",
        "  robo_response=''\n",
        "  sent_tokens.append(user_response)\n",
        "  #Create a TfidfVectorizer Object\n",
        "  TfidfVec = TfidfVectorizer(tokenizer=LemNormalize, stop_words='english')\n",
        "\n",
        "  #Convert the text to a matriz of TF-IDF features\n",
        "  tfidf = TfidfVec.fit_transform(sent_tokens)\n",
        "  #Get the measure of similarity (similarity scores)\n",
        "  vals = cosine_similarity(tfidf[-1], tfidf)\n",
        "\n",
        "  #Print the zimilarity scores\n",
        "  #Print(vals)\n",
        "\n",
        "  #Get the index of the most similar text/sentence to the users response\n",
        "  idx = vals.argsort()[0][-2]\n",
        "  flat = vals.flatten()\n",
        "  flat.sort()\n",
        "  req_tfidf = flat[-2]\n",
        "  #Print the similarity score\n",
        "  #Print (score)\n",
        "  robo_response=''\n",
        "  #If the variable 'score is 0 then there is no text similar to the users response\n",
        "  if(req_tfidf==0):\n",
        "    robo_response = robo_response+\"I aplogize, I don't understand.\"\n",
        "  else:\n",
        "    robo_response = robo_response+sent_tokens[idx]\n",
        "  return robo_response\n",
        "    #print the chat bot response"
      ],
      "execution_count": 40,
      "outputs": []
    },
    {
      "cell_type": "code",
      "metadata": {
        "id": "4RiZ9VDQUB_f"
      },
      "source": [
        "GREETING_INPUTS = (\"hello\", \"hi\", \"greetings\", \"sup\", \"what's up\",\"hey\",)\n",
        "GREETING_RESPONSES = [\"hi\", \"hey\", \"*nods*\", \"hi there\", \"hello\", \"I am glad! You are talking to me\"]\n",
        "def greeting(sentence):\n",
        " \n",
        "    for word in sentence.split():\n",
        "        if word.lower() in GREETING_INPUTS:\n",
        "            return random.choice(GREETING_RESPONSES)"
      ],
      "execution_count": 42,
      "outputs": []
    },
    {
      "cell_type": "code",
      "metadata": {
        "id": "To6w5bOHQ8kG",
        "outputId": "c9337e77-45d5-421b-bcf4-ca93b4b48e38",
        "colab": {
          "base_uri": "https://localhost:8080/",
          "height": 618
        }
      },
      "source": [
        "flag=True\n",
        "print(\"Hi, im your gym wikipedia\")\n",
        "while(flag==True):\n",
        "    user_response = input()\n",
        "    user_response=user_response.lower()\n",
        "    if(user_response!='bye'):\n",
        "        if(user_response=='thanks' or user_response=='thank you' ):\n",
        "            flag=False\n",
        "            print(\"ROBO: You are welcome..\")\n",
        "        else:\n",
        "            if(greeting(user_response)!=None):\n",
        "                print(\"ROBO: \"+greeting(user_response))\n",
        "            else:\n",
        "                print(\"ROBO: \",end=\"\")\n",
        "                print(response(user_response))\n",
        "                sent_tokens.remove(user_response)\n",
        "    else:\n",
        "        flag=False\n",
        "        print(\"ROBO: Bye! take care..\")"
      ],
      "execution_count": 44,
      "outputs": [
        {
          "output_type": "stream",
          "text": [
            "Hi, im your gym wikipedia\n",
            "ROBO: hi there\n",
            "ROBO: A gym may be open air as well.\n",
            "ROBO: The word is derived from the ancient Greek gymnasium.\n"
          ],
          "name": "stdout"
        },
        {
          "output_type": "error",
          "ename": "KeyboardInterrupt",
          "evalue": "ignored",
          "traceback": [
            "\u001b[0;31m---------------------------------------------------------------------------\u001b[0m",
            "\u001b[0;31mKeyboardInterrupt\u001b[0m                         Traceback (most recent call last)",
            "\u001b[0;32m/usr/local/lib/python3.6/dist-packages/ipykernel/kernelbase.py\u001b[0m in \u001b[0;36m_input_request\u001b[0;34m(self, prompt, ident, parent, password)\u001b[0m\n\u001b[1;32m    728\u001b[0m             \u001b[0;32mtry\u001b[0m\u001b[0;34m:\u001b[0m\u001b[0;34m\u001b[0m\u001b[0;34m\u001b[0m\u001b[0m\n\u001b[0;32m--> 729\u001b[0;31m                 \u001b[0mident\u001b[0m\u001b[0;34m,\u001b[0m \u001b[0mreply\u001b[0m \u001b[0;34m=\u001b[0m \u001b[0mself\u001b[0m\u001b[0;34m.\u001b[0m\u001b[0msession\u001b[0m\u001b[0;34m.\u001b[0m\u001b[0mrecv\u001b[0m\u001b[0;34m(\u001b[0m\u001b[0mself\u001b[0m\u001b[0;34m.\u001b[0m\u001b[0mstdin_socket\u001b[0m\u001b[0;34m,\u001b[0m \u001b[0;36m0\u001b[0m\u001b[0;34m)\u001b[0m\u001b[0;34m\u001b[0m\u001b[0;34m\u001b[0m\u001b[0m\n\u001b[0m\u001b[1;32m    730\u001b[0m             \u001b[0;32mexcept\u001b[0m \u001b[0mException\u001b[0m\u001b[0;34m:\u001b[0m\u001b[0;34m\u001b[0m\u001b[0;34m\u001b[0m\u001b[0m\n",
            "\u001b[0;32m/usr/local/lib/python3.6/dist-packages/jupyter_client/session.py\u001b[0m in \u001b[0;36mrecv\u001b[0;34m(self, socket, mode, content, copy)\u001b[0m\n\u001b[1;32m    802\u001b[0m         \u001b[0;32mtry\u001b[0m\u001b[0;34m:\u001b[0m\u001b[0;34m\u001b[0m\u001b[0;34m\u001b[0m\u001b[0m\n\u001b[0;32m--> 803\u001b[0;31m             \u001b[0mmsg_list\u001b[0m \u001b[0;34m=\u001b[0m \u001b[0msocket\u001b[0m\u001b[0;34m.\u001b[0m\u001b[0mrecv_multipart\u001b[0m\u001b[0;34m(\u001b[0m\u001b[0mmode\u001b[0m\u001b[0;34m,\u001b[0m \u001b[0mcopy\u001b[0m\u001b[0;34m=\u001b[0m\u001b[0mcopy\u001b[0m\u001b[0;34m)\u001b[0m\u001b[0;34m\u001b[0m\u001b[0;34m\u001b[0m\u001b[0m\n\u001b[0m\u001b[1;32m    804\u001b[0m         \u001b[0;32mexcept\u001b[0m \u001b[0mzmq\u001b[0m\u001b[0;34m.\u001b[0m\u001b[0mZMQError\u001b[0m \u001b[0;32mas\u001b[0m \u001b[0me\u001b[0m\u001b[0;34m:\u001b[0m\u001b[0;34m\u001b[0m\u001b[0;34m\u001b[0m\u001b[0m\n",
            "\u001b[0;32m/usr/local/lib/python3.6/dist-packages/zmq/sugar/socket.py\u001b[0m in \u001b[0;36mrecv_multipart\u001b[0;34m(self, flags, copy, track)\u001b[0m\n\u001b[1;32m    490\u001b[0m         \"\"\"\n\u001b[0;32m--> 491\u001b[0;31m         \u001b[0mparts\u001b[0m \u001b[0;34m=\u001b[0m \u001b[0;34m[\u001b[0m\u001b[0mself\u001b[0m\u001b[0;34m.\u001b[0m\u001b[0mrecv\u001b[0m\u001b[0;34m(\u001b[0m\u001b[0mflags\u001b[0m\u001b[0;34m,\u001b[0m \u001b[0mcopy\u001b[0m\u001b[0;34m=\u001b[0m\u001b[0mcopy\u001b[0m\u001b[0;34m,\u001b[0m \u001b[0mtrack\u001b[0m\u001b[0;34m=\u001b[0m\u001b[0mtrack\u001b[0m\u001b[0;34m)\u001b[0m\u001b[0;34m]\u001b[0m\u001b[0;34m\u001b[0m\u001b[0;34m\u001b[0m\u001b[0m\n\u001b[0m\u001b[1;32m    492\u001b[0m         \u001b[0;31m# have first part already, only loop while more to receive\u001b[0m\u001b[0;34m\u001b[0m\u001b[0;34m\u001b[0m\u001b[0;34m\u001b[0m\u001b[0m\n",
            "\u001b[0;32mzmq/backend/cython/socket.pyx\u001b[0m in \u001b[0;36mzmq.backend.cython.socket.Socket.recv\u001b[0;34m()\u001b[0m\n",
            "\u001b[0;32mzmq/backend/cython/socket.pyx\u001b[0m in \u001b[0;36mzmq.backend.cython.socket.Socket.recv\u001b[0;34m()\u001b[0m\n",
            "\u001b[0;32mzmq/backend/cython/socket.pyx\u001b[0m in \u001b[0;36mzmq.backend.cython.socket._recv_copy\u001b[0;34m()\u001b[0m\n",
            "\u001b[0;32m/usr/local/lib/python3.6/dist-packages/zmq/backend/cython/checkrc.pxd\u001b[0m in \u001b[0;36mzmq.backend.cython.checkrc._check_rc\u001b[0;34m()\u001b[0m\n",
            "\u001b[0;31mKeyboardInterrupt\u001b[0m: ",
            "\nDuring handling of the above exception, another exception occurred:\n",
            "\u001b[0;31mKeyboardInterrupt\u001b[0m                         Traceback (most recent call last)",
            "\u001b[0;32m<ipython-input-44-6c164d475dc5>\u001b[0m in \u001b[0;36m<module>\u001b[0;34m()\u001b[0m\n\u001b[1;32m      2\u001b[0m \u001b[0mprint\u001b[0m\u001b[0;34m(\u001b[0m\u001b[0;34m\"Hi, im your gym wikipedia\"\u001b[0m\u001b[0;34m)\u001b[0m\u001b[0;34m\u001b[0m\u001b[0;34m\u001b[0m\u001b[0m\n\u001b[1;32m      3\u001b[0m \u001b[0;32mwhile\u001b[0m\u001b[0;34m(\u001b[0m\u001b[0mflag\u001b[0m\u001b[0;34m==\u001b[0m\u001b[0;32mTrue\u001b[0m\u001b[0;34m)\u001b[0m\u001b[0;34m:\u001b[0m\u001b[0;34m\u001b[0m\u001b[0;34m\u001b[0m\u001b[0m\n\u001b[0;32m----> 4\u001b[0;31m     \u001b[0muser_response\u001b[0m \u001b[0;34m=\u001b[0m \u001b[0minput\u001b[0m\u001b[0;34m(\u001b[0m\u001b[0;34m)\u001b[0m\u001b[0;34m\u001b[0m\u001b[0;34m\u001b[0m\u001b[0m\n\u001b[0m\u001b[1;32m      5\u001b[0m     \u001b[0muser_response\u001b[0m\u001b[0;34m=\u001b[0m\u001b[0muser_response\u001b[0m\u001b[0;34m.\u001b[0m\u001b[0mlower\u001b[0m\u001b[0;34m(\u001b[0m\u001b[0;34m)\u001b[0m\u001b[0;34m\u001b[0m\u001b[0;34m\u001b[0m\u001b[0m\n\u001b[1;32m      6\u001b[0m     \u001b[0;32mif\u001b[0m\u001b[0;34m(\u001b[0m\u001b[0muser_response\u001b[0m\u001b[0;34m!=\u001b[0m\u001b[0;34m'bye'\u001b[0m\u001b[0;34m)\u001b[0m\u001b[0;34m:\u001b[0m\u001b[0;34m\u001b[0m\u001b[0;34m\u001b[0m\u001b[0m\n",
            "\u001b[0;32m/usr/local/lib/python3.6/dist-packages/ipykernel/kernelbase.py\u001b[0m in \u001b[0;36mraw_input\u001b[0;34m(self, prompt)\u001b[0m\n\u001b[1;32m    702\u001b[0m             \u001b[0mself\u001b[0m\u001b[0;34m.\u001b[0m\u001b[0m_parent_ident\u001b[0m\u001b[0;34m,\u001b[0m\u001b[0;34m\u001b[0m\u001b[0;34m\u001b[0m\u001b[0m\n\u001b[1;32m    703\u001b[0m             \u001b[0mself\u001b[0m\u001b[0;34m.\u001b[0m\u001b[0m_parent_header\u001b[0m\u001b[0;34m,\u001b[0m\u001b[0;34m\u001b[0m\u001b[0;34m\u001b[0m\u001b[0m\n\u001b[0;32m--> 704\u001b[0;31m             \u001b[0mpassword\u001b[0m\u001b[0;34m=\u001b[0m\u001b[0;32mFalse\u001b[0m\u001b[0;34m,\u001b[0m\u001b[0;34m\u001b[0m\u001b[0;34m\u001b[0m\u001b[0m\n\u001b[0m\u001b[1;32m    705\u001b[0m         )\n\u001b[1;32m    706\u001b[0m \u001b[0;34m\u001b[0m\u001b[0m\n",
            "\u001b[0;32m/usr/local/lib/python3.6/dist-packages/ipykernel/kernelbase.py\u001b[0m in \u001b[0;36m_input_request\u001b[0;34m(self, prompt, ident, parent, password)\u001b[0m\n\u001b[1;32m    732\u001b[0m             \u001b[0;32mexcept\u001b[0m \u001b[0mKeyboardInterrupt\u001b[0m\u001b[0;34m:\u001b[0m\u001b[0;34m\u001b[0m\u001b[0;34m\u001b[0m\u001b[0m\n\u001b[1;32m    733\u001b[0m                 \u001b[0;31m# re-raise KeyboardInterrupt, to truncate traceback\u001b[0m\u001b[0;34m\u001b[0m\u001b[0;34m\u001b[0m\u001b[0;34m\u001b[0m\u001b[0m\n\u001b[0;32m--> 734\u001b[0;31m                 \u001b[0;32mraise\u001b[0m \u001b[0mKeyboardInterrupt\u001b[0m\u001b[0;34m\u001b[0m\u001b[0;34m\u001b[0m\u001b[0m\n\u001b[0m\u001b[1;32m    735\u001b[0m             \u001b[0;32melse\u001b[0m\u001b[0;34m:\u001b[0m\u001b[0;34m\u001b[0m\u001b[0;34m\u001b[0m\u001b[0m\n\u001b[1;32m    736\u001b[0m                 \u001b[0;32mbreak\u001b[0m\u001b[0;34m\u001b[0m\u001b[0;34m\u001b[0m\u001b[0m\n",
            "\u001b[0;31mKeyboardInterrupt\u001b[0m: "
          ]
        }
      ]
    },
    {
      "cell_type": "code",
      "metadata": {
        "id": "AgmO6jUIRy5w",
        "outputId": "e22104e4-487d-4fad-c9a0-05c86a3ea8f9",
        "colab": {
          "base_uri": "https://localhost:8080/",
          "height": 763
        }
      },
      "source": [
        "!git\n"
      ],
      "execution_count": 46,
      "outputs": [
        {
          "output_type": "stream",
          "text": [
            "usage: git [--version] [--help] [-C <path>] [-c <name>=<value>]\n",
            "           [--exec-path[=<path>]] [--html-path] [--man-path] [--info-path]\n",
            "           [-p | --paginate | --no-pager] [--no-replace-objects] [--bare]\n",
            "           [--git-dir=<path>] [--work-tree=<path>] [--namespace=<name>]\n",
            "           <command> [<args>]\n",
            "\n",
            "These are common Git commands used in various situations:\n",
            "\n",
            "start a working area (see also: git help tutorial)\n",
            "   clone      Clone a repository into a new directory\n",
            "   init       Create an empty Git repository or reinitialize an existing one\n",
            "\n",
            "work on the current change (see also: git help everyday)\n",
            "   add        Add file contents to the index\n",
            "   mv         Move or rename a file, a directory, or a symlink\n",
            "   reset      Reset current HEAD to the specified state\n",
            "   rm         Remove files from the working tree and from the index\n",
            "\n",
            "examine the history and state (see also: git help revisions)\n",
            "   bisect     Use binary search to find the commit that introduced a bug\n",
            "   grep       Print lines matching a pattern\n",
            "   log        Show commit logs\n",
            "   show       Show various types of objects\n",
            "   status     Show the working tree status\n",
            "\n",
            "grow, mark and tweak your common history\n",
            "   branch     List, create, or delete branches\n",
            "   checkout   Switch branches or restore working tree files\n",
            "   commit     Record changes to the repository\n",
            "   diff       Show changes between commits, commit and working tree, etc\n",
            "   merge      Join two or more development histories together\n",
            "   rebase     Reapply commits on top of another base tip\n",
            "   tag        Create, list, delete or verify a tag object signed with GPG\n",
            "\n",
            "collaborate (see also: git help workflows)\n",
            "   fetch      Download objects and refs from another repository\n",
            "   pull       Fetch from and integrate with another repository or a local branch\n",
            "   push       Update remote refs along with associated objects\n",
            "\n",
            "'git help -a' and 'git help -g' list available subcommands and some\n",
            "concept guides. See 'git help <command>' or 'git help <concept>'\n",
            "to read about a specific subcommand or concept.\n"
          ],
          "name": "stdout"
        }
      ]
    }
  ]
}